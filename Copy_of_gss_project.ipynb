{
  "nbformat": 4,
  "nbformat_minor": 0,
  "metadata": {
    "colab": {
      "provenance": []
    },
    "kernelspec": {
      "name": "python3",
      "display_name": "Python 3"
    },
    "language_info": {
      "name": "python"
    }
  },
  "cells": [
    {
      "cell_type": "markdown",
      "source": [
        "<font size=\"5\">**GSS PROJECT**</font>\n",
        "\n",
        "Research question: How does occupational prestige and work-life balance influence marital satisfaction among married individuals in the US?"
      ],
      "metadata": {
        "id": "DgS4q0CDaHp7"
      }
    },
    {
      "cell_type": "code",
      "execution_count": null,
      "metadata": {
        "colab": {
          "base_uri": "https://localhost:8080/"
        },
        "id": "cixA96zHONcS",
        "outputId": "b497cbd2-353c-41af-db63-2de563a2b0a1"
      },
      "outputs": [
        {
          "output_type": "stream",
          "name": "stdout",
          "text": [
            "Cloning into 'project_gss'...\n",
            "remote: Enumerating objects: 23, done.\u001b[K\n",
            "remote: Counting objects: 100% (8/8), done.\u001b[K\n",
            "remote: Compressing objects: 100% (7/7), done.\u001b[K\n",
            "remote: Total 23 (delta 6), reused 1 (delta 1), pack-reused 15\u001b[K\n",
            "Receiving objects: 100% (23/23), 23.94 MiB | 23.41 MiB/s, done.\n",
            "Resolving deltas: 100% (6/6), done.\n"
          ]
        }
      ],
      "source": [
        "! git clone https://github.com/DS3001/project_gss"
      ]
    },
    {
      "cell_type": "code",
      "source": [
        "import pandas as pd\n",
        "\n",
        "var_list = ['wrkstat', 'occ10', 'prestige', 'whatslf2', 'marital', 'divorce', 'martype',\n",
        "            'sppres10', 'prestg10', 'spocc10', 'hapmar', 'age', 'educ', 'sex', 'income16', 'income'] # List of variables you want to save\n",
        "output_filename = 'selected_gss_data.csv' # Name of the file you want to save the data to\n",
        "\n",
        "modes = ['w','a'] # Has write mode and append mode\n",
        "phase = 0 # Starts in write mode; after one iteration of loop, switches to append mode\n",
        "\n",
        "for k in range(3): # for each chunk of the data\n",
        "    url = 'https://github.com/DS3001/project_gss/raw/main/gss_chunk_' + str(1+k) + '.parquet' # Create url to the chunk to be processed\n",
        "    print(url) # Check the url is correct\n",
        "    df = pd.read_parquet(url) # Download this chunk of data\n",
        "    print(df.head()) # Visually inspect the first few rows\n",
        "    df.loc[:,var_list].to_csv(output_filename, # specifies target file to save the chunk to\n",
        "                              mode=modes[phase], # control write versus append\n",
        "                              header=var_list, # variable names\n",
        "                              index=False) # no row index saved\n",
        "    phase = 1 # Switch from write mode to append mode"
      ],
      "metadata": {
        "colab": {
          "base_uri": "https://localhost:8080/"
        },
        "id": "WMgDziswPh--",
        "outputId": "af4fb323-3431-44c9-8a73-fcddbf251f37"
      },
      "execution_count": null,
      "outputs": [
        {
          "output_type": "stream",
          "name": "stdout",
          "text": [
            "https://github.com/DS3001/project_gss/raw/main/gss_chunk_1.parquet\n",
            "   year  id            wrkstat  hrs1  hrs2 evwork    occ  prestige  \\\n",
            "0  1972   1  working full time   NaN   NaN    NaN  205.0      50.0   \n",
            "1  1972   2            retired   NaN   NaN    yes  441.0      45.0   \n",
            "2  1972   3  working part time   NaN   NaN    NaN  270.0      44.0   \n",
            "3  1972   4  working full time   NaN   NaN    NaN    1.0      57.0   \n",
            "4  1972   5      keeping house   NaN   NaN    yes  385.0      40.0   \n",
            "\n",
            "         wrkslf wrkgovt  ...  agehef12 agehef13 agehef14  hompoph wtssps_nea  \\\n",
            "0  someone else     NaN  ...       NaN      NaN      NaN      NaN        NaN   \n",
            "1  someone else     NaN  ...       NaN      NaN      NaN      NaN        NaN   \n",
            "2  someone else     NaN  ...       NaN      NaN      NaN      NaN        NaN   \n",
            "3  someone else     NaN  ...       NaN      NaN      NaN      NaN        NaN   \n",
            "4  someone else     NaN  ...       NaN      NaN      NaN      NaN        NaN   \n",
            "\n",
            "   wtssnrps_nea  wtssps_next wtssnrps_next wtsscomp wtsscompnr  \n",
            "0           NaN          NaN           NaN   0.4446        NaN  \n",
            "1           NaN          NaN           NaN   0.8893        NaN  \n",
            "2           NaN          NaN           NaN   0.8893        NaN  \n",
            "3           NaN          NaN           NaN   0.8893        NaN  \n",
            "4           NaN          NaN           NaN   0.8893        NaN  \n",
            "\n",
            "[5 rows x 6694 columns]\n",
            "https://github.com/DS3001/project_gss/raw/main/gss_chunk_2.parquet\n",
            "   year   id            wrkstat  hrs1  hrs2 evwork    occ  prestige  \\\n",
            "0  1989  775            retired   NaN   NaN    yes  540.0      36.0   \n",
            "1  1989  776  working full time  40.0   NaN    NaN  925.0      36.0   \n",
            "2  1989  777            retired   NaN   NaN    yes   80.0      61.0   \n",
            "3  1989  778  working full time  44.0   NaN    NaN  912.0      26.0   \n",
            "4  1989  779            retired   NaN   NaN    yes  690.0      32.0   \n",
            "\n",
            "         wrkslf wrkgovt  ...  agehef12 agehef13 agehef14  hompoph wtssps_nea  \\\n",
            "0  someone else     NaN  ...       NaN      NaN      NaN      NaN        NaN   \n",
            "1  someone else     NaN  ...       NaN      NaN      NaN      NaN        NaN   \n",
            "2  someone else     NaN  ...       NaN      NaN      NaN      NaN        NaN   \n",
            "3  someone else     NaN  ...       NaN      NaN      NaN      NaN        NaN   \n",
            "4  someone else     NaN  ...       NaN      NaN      NaN      NaN        NaN   \n",
            "\n",
            "   wtssnrps_nea  wtssps_next wtssnrps_next  wtsscomp wtsscompnr  \n",
            "0           NaN          NaN           NaN  1.295069        NaN  \n",
            "1           NaN          NaN           NaN  0.483624        NaN  \n",
            "2           NaN          NaN           NaN  0.407988        NaN  \n",
            "3           NaN          NaN           NaN  1.225988        NaN  \n",
            "4           NaN          NaN           NaN  0.504302        NaN  \n",
            "\n",
            "[5 rows x 6694 columns]\n",
            "https://github.com/DS3001/project_gss/raw/main/gss_chunk_3.parquet\n",
            "   year    id            wrkstat  hrs1  hrs2 evwork  occ  prestige  \\\n",
            "0  2006  1751  working full time  40.0   NaN    NaN  NaN       NaN   \n",
            "1  2006  1752          in school   NaN   NaN    yes  NaN       NaN   \n",
            "2  2006  1753  working full time  35.0   NaN    NaN  NaN       NaN   \n",
            "3  2006  1754  working full time  50.0   NaN    NaN  NaN       NaN   \n",
            "4  2006  1755  working full time  40.0   NaN    NaN  NaN       NaN   \n",
            "\n",
            "         wrkslf     wrkgovt  ...  agehef12 agehef13 agehef14  hompoph  \\\n",
            "0  someone else  government  ...       NaN      NaN      NaN      NaN   \n",
            "1  someone else     private  ...       NaN      NaN      NaN      NaN   \n",
            "2  someone else  government  ...       NaN      NaN      NaN      NaN   \n",
            "3  someone else  government  ...       NaN      NaN      NaN      NaN   \n",
            "4  someone else     private  ...       NaN      NaN      NaN      NaN   \n",
            "\n",
            "  wtssps_nea  wtssnrps_nea  wtssps_next wtssnrps_next  wtsscomp wtsscompnr  \n",
            "0        NaN           NaN          NaN           NaN  1.079141   0.961150  \n",
            "1        NaN           NaN          NaN           NaN  7.673834   6.641571  \n",
            "2        NaN           NaN          NaN           NaN  0.584663   0.512145  \n",
            "3        NaN           NaN          NaN           NaN  0.715731   0.637592  \n",
            "4        NaN           NaN          NaN           NaN  1.094831   0.956094  \n",
            "\n",
            "[5 rows x 6694 columns]\n"
          ]
        }
      ]
    },
    {
      "cell_type": "code",
      "source": [
        "df = pd.read_csv('selected_gss_data.csv')\n",
        "df.head(3)"
      ],
      "metadata": {
        "colab": {
          "base_uri": "https://localhost:8080/",
          "height": 335
        },
        "id": "1oD3jYyNbxCU",
        "outputId": "ce151090-061b-44a7-f960-4c41a66b6d3a"
      },
      "execution_count": null,
      "outputs": [
        {
          "output_type": "stream",
          "name": "stderr",
          "text": [
            "<ipython-input-3-98be46dfa748>:1: DtypeWarning: Columns (2,7,8,11,12) have mixed types. Specify dtype option on import or set low_memory=False.\n",
            "  df = pd.read_csv('selected_gss_data.csv')\n"
          ]
        },
        {
          "output_type": "execute_result",
          "data": {
            "text/plain": [
              "             wrkstat                                              occ10  \\\n",
              "0  working full time  wholesale and retail buyers, except farm products   \n",
              "1            retired  first-line supervisors of production and opera...   \n",
              "2  working part time               real estate brokers and sales agents   \n",
              "\n",
              "  prestige whatslf2        marital divorce martype sppres10 prestg10  \\\n",
              "0     50.0      NaN  never married     NaN     NaN      NaN     45.0   \n",
              "1     45.0      NaN        married      no     NaN      NaN     50.0   \n",
              "2     44.0      NaN        married      no     NaN     41.0     49.0   \n",
              "\n",
              "                                             spocc10 hapmar   age  educ  \\\n",
              "0                                                NaN    NaN  23.0  16.0   \n",
              "1                                                NaN    NaN  70.0  10.0   \n",
              "2  property, real estate, and community associati...    NaN  48.0  12.0   \n",
              "\n",
              "      sex income16 income  \n",
              "0  female      NaN    NaN  \n",
              "1    male      NaN    NaN  \n",
              "2  female      NaN    NaN  "
            ],
            "text/html": [
              "\n",
              "  <div id=\"df-c166bf5e-8e63-45a4-ab6d-a7a1622ff1fe\" class=\"colab-df-container\">\n",
              "    <div>\n",
              "<style scoped>\n",
              "    .dataframe tbody tr th:only-of-type {\n",
              "        vertical-align: middle;\n",
              "    }\n",
              "\n",
              "    .dataframe tbody tr th {\n",
              "        vertical-align: top;\n",
              "    }\n",
              "\n",
              "    .dataframe thead th {\n",
              "        text-align: right;\n",
              "    }\n",
              "</style>\n",
              "<table border=\"1\" class=\"dataframe\">\n",
              "  <thead>\n",
              "    <tr style=\"text-align: right;\">\n",
              "      <th></th>\n",
              "      <th>wrkstat</th>\n",
              "      <th>occ10</th>\n",
              "      <th>prestige</th>\n",
              "      <th>whatslf2</th>\n",
              "      <th>marital</th>\n",
              "      <th>divorce</th>\n",
              "      <th>martype</th>\n",
              "      <th>sppres10</th>\n",
              "      <th>prestg10</th>\n",
              "      <th>spocc10</th>\n",
              "      <th>hapmar</th>\n",
              "      <th>age</th>\n",
              "      <th>educ</th>\n",
              "      <th>sex</th>\n",
              "      <th>income16</th>\n",
              "      <th>income</th>\n",
              "    </tr>\n",
              "  </thead>\n",
              "  <tbody>\n",
              "    <tr>\n",
              "      <th>0</th>\n",
              "      <td>working full time</td>\n",
              "      <td>wholesale and retail buyers, except farm products</td>\n",
              "      <td>50.0</td>\n",
              "      <td>NaN</td>\n",
              "      <td>never married</td>\n",
              "      <td>NaN</td>\n",
              "      <td>NaN</td>\n",
              "      <td>NaN</td>\n",
              "      <td>45.0</td>\n",
              "      <td>NaN</td>\n",
              "      <td>NaN</td>\n",
              "      <td>23.0</td>\n",
              "      <td>16.0</td>\n",
              "      <td>female</td>\n",
              "      <td>NaN</td>\n",
              "      <td>NaN</td>\n",
              "    </tr>\n",
              "    <tr>\n",
              "      <th>1</th>\n",
              "      <td>retired</td>\n",
              "      <td>first-line supervisors of production and opera...</td>\n",
              "      <td>45.0</td>\n",
              "      <td>NaN</td>\n",
              "      <td>married</td>\n",
              "      <td>no</td>\n",
              "      <td>NaN</td>\n",
              "      <td>NaN</td>\n",
              "      <td>50.0</td>\n",
              "      <td>NaN</td>\n",
              "      <td>NaN</td>\n",
              "      <td>70.0</td>\n",
              "      <td>10.0</td>\n",
              "      <td>male</td>\n",
              "      <td>NaN</td>\n",
              "      <td>NaN</td>\n",
              "    </tr>\n",
              "    <tr>\n",
              "      <th>2</th>\n",
              "      <td>working part time</td>\n",
              "      <td>real estate brokers and sales agents</td>\n",
              "      <td>44.0</td>\n",
              "      <td>NaN</td>\n",
              "      <td>married</td>\n",
              "      <td>no</td>\n",
              "      <td>NaN</td>\n",
              "      <td>41.0</td>\n",
              "      <td>49.0</td>\n",
              "      <td>property, real estate, and community associati...</td>\n",
              "      <td>NaN</td>\n",
              "      <td>48.0</td>\n",
              "      <td>12.0</td>\n",
              "      <td>female</td>\n",
              "      <td>NaN</td>\n",
              "      <td>NaN</td>\n",
              "    </tr>\n",
              "  </tbody>\n",
              "</table>\n",
              "</div>\n",
              "    <div class=\"colab-df-buttons\">\n",
              "\n",
              "  <div class=\"colab-df-container\">\n",
              "    <button class=\"colab-df-convert\" onclick=\"convertToInteractive('df-c166bf5e-8e63-45a4-ab6d-a7a1622ff1fe')\"\n",
              "            title=\"Convert this dataframe to an interactive table.\"\n",
              "            style=\"display:none;\">\n",
              "\n",
              "  <svg xmlns=\"http://www.w3.org/2000/svg\" height=\"24px\" viewBox=\"0 -960 960 960\">\n",
              "    <path d=\"M120-120v-720h720v720H120Zm60-500h600v-160H180v160Zm220 220h160v-160H400v160Zm0 220h160v-160H400v160ZM180-400h160v-160H180v160Zm440 0h160v-160H620v160ZM180-180h160v-160H180v160Zm440 0h160v-160H620v160Z\"/>\n",
              "  </svg>\n",
              "    </button>\n",
              "\n",
              "  <style>\n",
              "    .colab-df-container {\n",
              "      display:flex;\n",
              "      gap: 12px;\n",
              "    }\n",
              "\n",
              "    .colab-df-convert {\n",
              "      background-color: #E8F0FE;\n",
              "      border: none;\n",
              "      border-radius: 50%;\n",
              "      cursor: pointer;\n",
              "      display: none;\n",
              "      fill: #1967D2;\n",
              "      height: 32px;\n",
              "      padding: 0 0 0 0;\n",
              "      width: 32px;\n",
              "    }\n",
              "\n",
              "    .colab-df-convert:hover {\n",
              "      background-color: #E2EBFA;\n",
              "      box-shadow: 0px 1px 2px rgba(60, 64, 67, 0.3), 0px 1px 3px 1px rgba(60, 64, 67, 0.15);\n",
              "      fill: #174EA6;\n",
              "    }\n",
              "\n",
              "    .colab-df-buttons div {\n",
              "      margin-bottom: 4px;\n",
              "    }\n",
              "\n",
              "    [theme=dark] .colab-df-convert {\n",
              "      background-color: #3B4455;\n",
              "      fill: #D2E3FC;\n",
              "    }\n",
              "\n",
              "    [theme=dark] .colab-df-convert:hover {\n",
              "      background-color: #434B5C;\n",
              "      box-shadow: 0px 1px 3px 1px rgba(0, 0, 0, 0.15);\n",
              "      filter: drop-shadow(0px 1px 2px rgba(0, 0, 0, 0.3));\n",
              "      fill: #FFFFFF;\n",
              "    }\n",
              "  </style>\n",
              "\n",
              "    <script>\n",
              "      const buttonEl =\n",
              "        document.querySelector('#df-c166bf5e-8e63-45a4-ab6d-a7a1622ff1fe button.colab-df-convert');\n",
              "      buttonEl.style.display =\n",
              "        google.colab.kernel.accessAllowed ? 'block' : 'none';\n",
              "\n",
              "      async function convertToInteractive(key) {\n",
              "        const element = document.querySelector('#df-c166bf5e-8e63-45a4-ab6d-a7a1622ff1fe');\n",
              "        const dataTable =\n",
              "          await google.colab.kernel.invokeFunction('convertToInteractive',\n",
              "                                                    [key], {});\n",
              "        if (!dataTable) return;\n",
              "\n",
              "        const docLinkHtml = 'Like what you see? Visit the ' +\n",
              "          '<a target=\"_blank\" href=https://colab.research.google.com/notebooks/data_table.ipynb>data table notebook</a>'\n",
              "          + ' to learn more about interactive tables.';\n",
              "        element.innerHTML = '';\n",
              "        dataTable['output_type'] = 'display_data';\n",
              "        await google.colab.output.renderOutput(dataTable, element);\n",
              "        const docLink = document.createElement('div');\n",
              "        docLink.innerHTML = docLinkHtml;\n",
              "        element.appendChild(docLink);\n",
              "      }\n",
              "    </script>\n",
              "  </div>\n",
              "\n",
              "\n",
              "<div id=\"df-ea741162-e486-489c-8156-0a33db4098c6\">\n",
              "  <button class=\"colab-df-quickchart\" onclick=\"quickchart('df-ea741162-e486-489c-8156-0a33db4098c6')\"\n",
              "            title=\"Suggest charts\"\n",
              "            style=\"display:none;\">\n",
              "\n",
              "<svg xmlns=\"http://www.w3.org/2000/svg\" height=\"24px\"viewBox=\"0 0 24 24\"\n",
              "     width=\"24px\">\n",
              "    <g>\n",
              "        <path d=\"M19 3H5c-1.1 0-2 .9-2 2v14c0 1.1.9 2 2 2h14c1.1 0 2-.9 2-2V5c0-1.1-.9-2-2-2zM9 17H7v-7h2v7zm4 0h-2V7h2v10zm4 0h-2v-4h2v4z\"/>\n",
              "    </g>\n",
              "</svg>\n",
              "  </button>\n",
              "\n",
              "<style>\n",
              "  .colab-df-quickchart {\n",
              "      --bg-color: #E8F0FE;\n",
              "      --fill-color: #1967D2;\n",
              "      --hover-bg-color: #E2EBFA;\n",
              "      --hover-fill-color: #174EA6;\n",
              "      --disabled-fill-color: #AAA;\n",
              "      --disabled-bg-color: #DDD;\n",
              "  }\n",
              "\n",
              "  [theme=dark] .colab-df-quickchart {\n",
              "      --bg-color: #3B4455;\n",
              "      --fill-color: #D2E3FC;\n",
              "      --hover-bg-color: #434B5C;\n",
              "      --hover-fill-color: #FFFFFF;\n",
              "      --disabled-bg-color: #3B4455;\n",
              "      --disabled-fill-color: #666;\n",
              "  }\n",
              "\n",
              "  .colab-df-quickchart {\n",
              "    background-color: var(--bg-color);\n",
              "    border: none;\n",
              "    border-radius: 50%;\n",
              "    cursor: pointer;\n",
              "    display: none;\n",
              "    fill: var(--fill-color);\n",
              "    height: 32px;\n",
              "    padding: 0;\n",
              "    width: 32px;\n",
              "  }\n",
              "\n",
              "  .colab-df-quickchart:hover {\n",
              "    background-color: var(--hover-bg-color);\n",
              "    box-shadow: 0 1px 2px rgba(60, 64, 67, 0.3), 0 1px 3px 1px rgba(60, 64, 67, 0.15);\n",
              "    fill: var(--button-hover-fill-color);\n",
              "  }\n",
              "\n",
              "  .colab-df-quickchart-complete:disabled,\n",
              "  .colab-df-quickchart-complete:disabled:hover {\n",
              "    background-color: var(--disabled-bg-color);\n",
              "    fill: var(--disabled-fill-color);\n",
              "    box-shadow: none;\n",
              "  }\n",
              "\n",
              "  .colab-df-spinner {\n",
              "    border: 2px solid var(--fill-color);\n",
              "    border-color: transparent;\n",
              "    border-bottom-color: var(--fill-color);\n",
              "    animation:\n",
              "      spin 1s steps(1) infinite;\n",
              "  }\n",
              "\n",
              "  @keyframes spin {\n",
              "    0% {\n",
              "      border-color: transparent;\n",
              "      border-bottom-color: var(--fill-color);\n",
              "      border-left-color: var(--fill-color);\n",
              "    }\n",
              "    20% {\n",
              "      border-color: transparent;\n",
              "      border-left-color: var(--fill-color);\n",
              "      border-top-color: var(--fill-color);\n",
              "    }\n",
              "    30% {\n",
              "      border-color: transparent;\n",
              "      border-left-color: var(--fill-color);\n",
              "      border-top-color: var(--fill-color);\n",
              "      border-right-color: var(--fill-color);\n",
              "    }\n",
              "    40% {\n",
              "      border-color: transparent;\n",
              "      border-right-color: var(--fill-color);\n",
              "      border-top-color: var(--fill-color);\n",
              "    }\n",
              "    60% {\n",
              "      border-color: transparent;\n",
              "      border-right-color: var(--fill-color);\n",
              "    }\n",
              "    80% {\n",
              "      border-color: transparent;\n",
              "      border-right-color: var(--fill-color);\n",
              "      border-bottom-color: var(--fill-color);\n",
              "    }\n",
              "    90% {\n",
              "      border-color: transparent;\n",
              "      border-bottom-color: var(--fill-color);\n",
              "    }\n",
              "  }\n",
              "</style>\n",
              "\n",
              "  <script>\n",
              "    async function quickchart(key) {\n",
              "      const quickchartButtonEl =\n",
              "        document.querySelector('#' + key + ' button');\n",
              "      quickchartButtonEl.disabled = true;  // To prevent multiple clicks.\n",
              "      quickchartButtonEl.classList.add('colab-df-spinner');\n",
              "      try {\n",
              "        const charts = await google.colab.kernel.invokeFunction(\n",
              "            'suggestCharts', [key], {});\n",
              "      } catch (error) {\n",
              "        console.error('Error during call to suggestCharts:', error);\n",
              "      }\n",
              "      quickchartButtonEl.classList.remove('colab-df-spinner');\n",
              "      quickchartButtonEl.classList.add('colab-df-quickchart-complete');\n",
              "    }\n",
              "    (() => {\n",
              "      let quickchartButtonEl =\n",
              "        document.querySelector('#df-ea741162-e486-489c-8156-0a33db4098c6 button');\n",
              "      quickchartButtonEl.style.display =\n",
              "        google.colab.kernel.accessAllowed ? 'block' : 'none';\n",
              "    })();\n",
              "  </script>\n",
              "</div>\n",
              "\n",
              "    </div>\n",
              "  </div>\n"
            ],
            "application/vnd.google.colaboratory.intrinsic+json": {
              "type": "dataframe",
              "variable_name": "df",
              "summary": "{\n  \"name\": \"df\",\n  \"rows\": 72392,\n  \"fields\": [\n    {\n      \"column\": \"wrkstat\",\n      \"properties\": {\n        \"dtype\": \"category\",\n        \"samples\": [\n          \"other\",\n          \"retired\",\n          \"unemployed, laid off, looking for work\"\n        ],\n        \"num_unique_values\": 9,\n        \"semantic_type\": \"\",\n        \"description\": \"\"\n      }\n    },\n    {\n      \"column\": \"occ10\",\n      \"properties\": {\n        \"dtype\": \"category\",\n        \"samples\": [\n          \"mail clerks and mail machine operators, except postal service\",\n          \"social and community service managers\",\n          \"data entry keyers\"\n        ],\n        \"num_unique_values\": 534,\n        \"semantic_type\": \"\",\n        \"description\": \"\"\n      }\n    },\n    {\n      \"column\": \"prestige\",\n      \"properties\": {\n        \"dtype\": \"category\",\n        \"samples\": [\n          \"70.0\",\n          \"21.0\",\n          \"50.0\"\n        ],\n        \"num_unique_values\": 63,\n        \"semantic_type\": \"\",\n        \"description\": \"\"\n      }\n    },\n    {\n      \"column\": \"whatslf2\",\n      \"properties\": {\n        \"dtype\": \"category\",\n        \"samples\": [\n          \"other (agriculture, construction, service, government, etc.)\",\n          \"manufacturing\",\n          \"retail trade\"\n        ],\n        \"num_unique_values\": 5,\n        \"semantic_type\": \"\",\n        \"description\": \"\"\n      }\n    },\n    {\n      \"column\": \"marital\",\n      \"properties\": {\n        \"dtype\": \"category\",\n        \"samples\": [\n          \"never married\",\n          \"married\",\n          \"marital\"\n        ],\n        \"num_unique_values\": 6,\n        \"semantic_type\": \"\",\n        \"description\": \"\"\n      }\n    },\n    {\n      \"column\": \"divorce\",\n      \"properties\": {\n        \"dtype\": \"category\",\n        \"samples\": [\n          \"no\",\n          \"yes\",\n          \"divorce\"\n        ],\n        \"num_unique_values\": 3,\n        \"semantic_type\": \"\",\n        \"description\": \"\"\n      }\n    },\n    {\n      \"column\": \"martype\",\n      \"properties\": {\n        \"dtype\": \"category\",\n        \"samples\": [\n          \"marriage between a man and a woman\",\n          \"not sure\",\n          \"martype\"\n        ],\n        \"num_unique_values\": 4,\n        \"semantic_type\": \"\",\n        \"description\": \"\"\n      }\n    },\n    {\n      \"column\": \"sppres10\",\n      \"properties\": {\n        \"dtype\": \"category\",\n        \"samples\": [\n          \"63.0\",\n          \"51.0\",\n          \"32.0\"\n        ],\n        \"num_unique_values\": 121,\n        \"semantic_type\": \"\",\n        \"description\": \"\"\n      }\n    },\n    {\n      \"column\": \"prestg10\",\n      \"properties\": {\n        \"dtype\": \"category\",\n        \"samples\": [\n          \"24.0\",\n          \"67.0\",\n          \"21.0\"\n        ],\n        \"num_unique_values\": 122,\n        \"semantic_type\": \"\",\n        \"description\": \"\"\n      }\n    },\n    {\n      \"column\": \"spocc10\",\n      \"properties\": {\n        \"dtype\": \"category\",\n        \"samples\": [\n          \"licensed practical and licensed vocational nurses\",\n          \"first-line supervisors of correctional officers\",\n          \"postal service mail carriers\"\n        ],\n        \"num_unique_values\": 533,\n        \"semantic_type\": \"\",\n        \"description\": \"\"\n      }\n    },\n    {\n      \"column\": \"hapmar\",\n      \"properties\": {\n        \"dtype\": \"category\",\n        \"samples\": [\n          \"pretty happy\",\n          \"hapmar\",\n          \"very happy\"\n        ],\n        \"num_unique_values\": 4,\n        \"semantic_type\": \"\",\n        \"description\": \"\"\n      }\n    },\n    {\n      \"column\": \"age\",\n      \"properties\": {\n        \"dtype\": \"category\",\n        \"samples\": [\n          \"87.0\",\n          86.0,\n          \"39.0\"\n        ],\n        \"num_unique_values\": 145,\n        \"semantic_type\": \"\",\n        \"description\": \"\"\n      }\n    },\n    {\n      \"column\": \"educ\",\n      \"properties\": {\n        \"dtype\": \"category\",\n        \"samples\": [\n          0.0,\n          20.0,\n          13.0\n        ],\n        \"num_unique_values\": 43,\n        \"semantic_type\": \"\",\n        \"description\": \"\"\n      }\n    },\n    {\n      \"column\": \"sex\",\n      \"properties\": {\n        \"dtype\": \"category\",\n        \"samples\": [\n          \"female\",\n          \"male\",\n          \"sex\"\n        ],\n        \"num_unique_values\": 3,\n        \"semantic_type\": \"\",\n        \"description\": \"\"\n      }\n    },\n    {\n      \"column\": \"income16\",\n      \"properties\": {\n        \"dtype\": \"category\",\n        \"samples\": [\n          \"$12,500 to $14,999\",\n          \"$90,000 to $109,999\",\n          \"$40,000 to $49,999\"\n        ],\n        \"num_unique_values\": 27,\n        \"semantic_type\": \"\",\n        \"description\": \"\"\n      }\n    },\n    {\n      \"column\": \"income\",\n      \"properties\": {\n        \"dtype\": \"category\",\n        \"samples\": [\n          \"$6,000 to $6,999\",\n          \"$8,000 to $9,999\",\n          \"$10,000 to $14,999\"\n        ],\n        \"num_unique_values\": 13,\n        \"semantic_type\": \"\",\n        \"description\": \"\"\n      }\n    }\n  ]\n}"
            }
          },
          "metadata": {},
          "execution_count": 3
        }
      ]
    },
    {
      "cell_type": "code",
      "source": [
        "df.shape, '\\n'"
      ],
      "metadata": {
        "colab": {
          "base_uri": "https://localhost:8080/"
        },
        "id": "0yXoXt1rcY-c",
        "outputId": "4ccb0253-9a37-451d-daca-c4e72aa129bf"
      },
      "execution_count": null,
      "outputs": [
        {
          "output_type": "execute_result",
          "data": {
            "text/plain": [
              "((72392, 16), '\\n')"
            ]
          },
          "metadata": {},
          "execution_count": 4
        }
      ]
    },
    {
      "cell_type": "code",
      "source": [
        "df.dtypes"
      ],
      "metadata": {
        "colab": {
          "base_uri": "https://localhost:8080/"
        },
        "id": "YKzvOg1dezlD",
        "outputId": "0bdc03e9-8539-45d9-8153-e52608a147ca"
      },
      "execution_count": null,
      "outputs": [
        {
          "output_type": "execute_result",
          "data": {
            "text/plain": [
              "wrkstat     object\n",
              "occ10       object\n",
              "prestige    object\n",
              "whatslf2    object\n",
              "marital     object\n",
              "divorce     object\n",
              "martype     object\n",
              "sppres10    object\n",
              "prestg10    object\n",
              "spocc10     object\n",
              "hapmar      object\n",
              "age         object\n",
              "educ        object\n",
              "sex         object\n",
              "income16    object\n",
              "income      object\n",
              "dtype: object"
            ]
          },
          "metadata": {},
          "execution_count": 5
        }
      ]
    },
    {
      "cell_type": "code",
      "source": [
        "df.rename(columns={\"wrkstat\": \"work_status\", \"occ10\": \"occupation\", \"whatslf2\": \"workplace_classification\", \"marital\": \"marital_status\", \"martype\": \"marriage_type\", \"sppres10\": \"spouse_prestige\", \"prestg10\": \"respondent_prestige\", \"spocc10\": \"spouse_occupation\", \"hapmar\": \"marriage_happiness\"}, inplace = True)"
      ],
      "metadata": {
        "id": "7CXvseSbyhar"
      },
      "execution_count": null,
      "outputs": []
    },
    {
      "cell_type": "code",
      "source": [
        "spouse_prestige = df['spouse_prestige']\n",
        "prestige = df['prestige']\n",
        "respondent_prestige = df['respondent_prestige']\n",
        "income16 = df['income16']\n",
        "income = df['income']\n",
        "work_status = df['work_status']\n",
        "occupation = df['occupation']\n",
        "workplace_classification = df['workplace_classification']\n",
        "marital_status = df['marital_status']\n",
        "divorce = df['divorce']\n",
        "marriage_type = df['marriage_type']\n",
        "spouse_occupation = df['spouse_occupation']\n",
        "marriage_happiness = df['marriage_happiness']\n",
        "age = df['age']\n",
        "educ = df['educ']\n",
        "sex = df['sex']"
      ],
      "metadata": {
        "id": "XJhfFjFzfGFL"
      },
      "execution_count": null,
      "outputs": []
    },
    {
      "cell_type": "code",
      "source": [
        "missing_sppres10_count = spouse_prestige.isna().sum()\n",
        "missing_prestige_count = prestige.isna().sum()\n",
        "missing_prestg10_count = respondent_prestige.isna().sum()\n",
        "missing_income16_count = income16.isna().sum()\n",
        "missing_income_count = income.isna().sum()\n",
        "missing_wrkstat_count = work_status.isna().sum()\n",
        "missing_occ10_count = occupation.isna().sum()\n",
        "missing_whatslf2_count = workplace_classification.isna().sum()\n",
        "missing_marital_count = marital_status.isna().sum()\n",
        "missing_divorce_count = divorce.isna().sum()\n",
        "missing_martype_count = marriage_type.isna().sum()\n",
        "missing_spocc10_count = spouse_occupation.isna().sum()\n",
        "missing_hapmar_count = marriage_happiness.isna().sum()\n",
        "missing_age_count = age.isna().sum()\n",
        "missing_educ_count = educ.isna().sum()\n",
        "missing_sex_count = sex.isna().sum()"
      ],
      "metadata": {
        "id": "kAjTA3QVnJq8"
      },
      "execution_count": null,
      "outputs": []
    },
    {
      "cell_type": "code",
      "source": [
        "row_count = len(df)\n",
        "\n",
        "percent_sppres10 = (missing_sppres10_count / row_count) * 100\n",
        "print(percent_sppres10, \"% of the spouse_prestige rows are NaN\")\n",
        "\n",
        "percent_prestige = (missing_prestige_count / row_count) * 100\n",
        "print(percent_prestige, \"% of the prestige rows are NaN\")\n",
        "\n",
        "percent_prestg10 = (missing_prestg10_count / row_count) * 100\n",
        "print(percent_prestg10, \"% of the respondent_prestige rows are NaN\")\n",
        "\n",
        "percent_income16 = (missing_income16_count / row_count) * 100\n",
        "print(percent_income16, \"% of the income16 rows are NaN\")\n",
        "\n",
        "percent_income = (missing_income_count / row_count) * 100\n",
        "print(percent_income, \"% of the income rows are NaN\")\n",
        "\n",
        "percent_wrkstat = (missing_wrkstat_count / row_count) * 100\n",
        "print(percent_wrkstat, \"% of the work_status rows are NaN\")\n",
        "\n",
        "percent_occ10 = (missing_occ10_count / row_count) * 100\n",
        "print(percent_occ10, \"% of the occupation rows are NaN\")\n",
        "\n",
        "percent_whatslf2 = (missing_whatslf2_count / row_count) * 100\n",
        "print(percent_whatslf2, \"% of the workplace_classification rows are NaN\")\n",
        "\n",
        "percent_marital = (missing_marital_count / row_count) * 100\n",
        "print(percent_marital, \"% of the marital_status rows are NaN\")\n",
        "\n",
        "percent_divorce = (missing_divorce_count / row_count) * 100\n",
        "print(percent_divorce, \"% of the divorce rows are NaN\")\n",
        "\n",
        "percent_martype = (missing_martype_count / row_count) * 100\n",
        "print(percent_martype, \"% of the marriage_type rows are NaN\")\n",
        "\n",
        "percent_spocc10 = (missing_spocc10_count / row_count) * 100\n",
        "print(percent_spocc10, \"% of the spouse_occupation rows are NaN\")\n",
        "\n",
        "percent_hapmar = (missing_hapmar_count / row_count) * 100\n",
        "print(percent_hapmar, \"% of the marriage_happiness rows are NaN\")\n",
        "\n",
        "percent_age = (missing_age_count / row_count) * 100\n",
        "print(percent_age, \"% of the age rows are NaN\")\n",
        "\n",
        "percent_educ = (missing_educ_count / row_count) * 100\n",
        "print(percent_educ, \"% of the educ rows are NaN\")\n",
        "\n",
        "percent_sex = (missing_sex_count / row_count) * 100\n",
        "print(percent_sex, \"% of the sex rows are NaN\")"
      ],
      "metadata": {
        "colab": {
          "base_uri": "https://localhost:8080/"
        },
        "id": "JtR_pzuQnTbI",
        "outputId": "9405f521-fd14-4123-ad52-094b80c5cd6c"
      },
      "execution_count": null,
      "outputs": [
        {
          "output_type": "stream",
          "name": "stdout",
          "text": [
            "51.93805945408333 % of the spouse_prestige rows are NaN\n",
            "66.47557741186871 % of the prestige rows are NaN\n",
            "7.102994806055918 % of the respondent_prestige rows are NaN\n",
            "84.29522599182229 % of the income16 rows are NaN\n",
            "12.36462592551663 % of the income rows are NaN\n",
            "0.04972925185103326 % of the work_status rows are NaN\n",
            "7.097469333628024 % of the occupation rows are NaN\n",
            "96.97894795004973 % of the workplace_classification rows are NaN\n",
            "0.07044977345563046 % of the marital_status rows are NaN\n",
            "39.073378273842415 % of the divorce rows are NaN\n",
            "92.9881754890043 % of the marriage_type rows are NaN\n",
            "52.31241021107304 % of the spouse_occupation rows are NaN\n",
            "53.03210299480605 % of the marriage_happiness rows are NaN\n",
            "1.0622720742623495 % of the age rows are NaN\n",
            "0.36329981213393747 % of the educ rows are NaN\n",
            "0.15471322798099238 % of the sex rows are NaN\n"
          ]
        }
      ]
    },
    {
      "cell_type": "markdown",
      "source": [
        "Variables to use:\n",
        "- prestg10 -- respondent's job prestige\n",
        "- income -- family income\n",
        "- wkrstat -- work status last week\n",
        "- occ10 -- respondent's occupation\n",
        "- marital -- marital status\n",
        "- age -- respondent's age\n",
        "- educ -- respondent's education\n",
        "- sex -- respondent's sex\n",
        "- POTENTIALLY: spocc10 (respondent's spouse's occupation), sppres10 (respondent's spouse's occupation prestige), hapmar (marriage happiness) -- these have a lot of values missing but are important for our research question nonetheless\n"
      ],
      "metadata": {
        "id": "VmMwi8D3oFqN"
      }
    },
    {
      "cell_type": "code",
      "source": [
        "df['spouse_prestige'] = pd.to_numeric(df['spouse_prestige'], errors = 'coerce')\n",
        "df['prestige'] = pd.to_numeric(df['prestige'], errors = 'coerce')\n",
        "df['respondent_prestige'] = pd.to_numeric(df['respondent_prestige'], errors = 'coerce')\n",
        "df['age'] = pd.to_numeric(df['age'], errors = 'coerce')\n",
        "df['educ'] = pd.to_numeric(df['educ'], errors = 'coerce')"
      ],
      "metadata": {
        "id": "2IprJkwKsyYf"
      },
      "execution_count": null,
      "outputs": []
    },
    {
      "cell_type": "code",
      "source": [
        "df.dtypes"
      ],
      "metadata": {
        "colab": {
          "base_uri": "https://localhost:8080/"
        },
        "id": "41Ux3uV6to-e",
        "outputId": "d4523eb6-7c85-4879-fb8f-40ab118a6540"
      },
      "execution_count": null,
      "outputs": [
        {
          "output_type": "execute_result",
          "data": {
            "text/plain": [
              "work_status                  object\n",
              "occupation                   object\n",
              "prestige                    float64\n",
              "workplace_classification     object\n",
              "marital_status               object\n",
              "divorce                      object\n",
              "marriage_type                object\n",
              "spouse_prestige             float64\n",
              "respondent_prestige         float64\n",
              "spouse_occupation            object\n",
              "marriage_happiness           object\n",
              "age                         float64\n",
              "educ                        float64\n",
              "sex                          object\n",
              "income16                     object\n",
              "income                       object\n",
              "dtype: object"
            ]
          },
          "metadata": {},
          "execution_count": 11
        }
      ]
    },
    {
      "cell_type": "code",
      "source": [
        "df.loc[df['work_status'] == 'wrkstat']"
      ],
      "metadata": {
        "colab": {
          "base_uri": "https://localhost:8080/",
          "height": 132
        },
        "id": "-GjTpUei3X0O",
        "outputId": "0f545555-16f5-44a7-efc9-204cb439713e"
      },
      "execution_count": null,
      "outputs": [
        {
          "output_type": "execute_result",
          "data": {
            "text/plain": [
              "      work_status occupation  prestige workplace_classification  \\\n",
              "24130     wrkstat      occ10       NaN                 whatslf2   \n",
              "48261     wrkstat      occ10       NaN                 whatslf2   \n",
              "\n",
              "      marital_status  divorce marriage_type  spouse_prestige  \\\n",
              "24130        marital  divorce       martype              NaN   \n",
              "48261        marital  divorce       martype              NaN   \n",
              "\n",
              "       respondent_prestige spouse_occupation marriage_happiness  age  educ  \\\n",
              "24130                  NaN           spocc10             hapmar  NaN   NaN   \n",
              "48261                  NaN           spocc10             hapmar  NaN   NaN   \n",
              "\n",
              "       sex  income16  income  \n",
              "24130  sex  income16  income  \n",
              "48261  sex  income16  income  "
            ],
            "text/html": [
              "\n",
              "  <div id=\"df-e289be7f-0b75-40ee-aa26-dfabd8c495af\" class=\"colab-df-container\">\n",
              "    <div>\n",
              "<style scoped>\n",
              "    .dataframe tbody tr th:only-of-type {\n",
              "        vertical-align: middle;\n",
              "    }\n",
              "\n",
              "    .dataframe tbody tr th {\n",
              "        vertical-align: top;\n",
              "    }\n",
              "\n",
              "    .dataframe thead th {\n",
              "        text-align: right;\n",
              "    }\n",
              "</style>\n",
              "<table border=\"1\" class=\"dataframe\">\n",
              "  <thead>\n",
              "    <tr style=\"text-align: right;\">\n",
              "      <th></th>\n",
              "      <th>work_status</th>\n",
              "      <th>occupation</th>\n",
              "      <th>prestige</th>\n",
              "      <th>workplace_classification</th>\n",
              "      <th>marital_status</th>\n",
              "      <th>divorce</th>\n",
              "      <th>marriage_type</th>\n",
              "      <th>spouse_prestige</th>\n",
              "      <th>respondent_prestige</th>\n",
              "      <th>spouse_occupation</th>\n",
              "      <th>marriage_happiness</th>\n",
              "      <th>age</th>\n",
              "      <th>educ</th>\n",
              "      <th>sex</th>\n",
              "      <th>income16</th>\n",
              "      <th>income</th>\n",
              "    </tr>\n",
              "  </thead>\n",
              "  <tbody>\n",
              "    <tr>\n",
              "      <th>24130</th>\n",
              "      <td>wrkstat</td>\n",
              "      <td>occ10</td>\n",
              "      <td>NaN</td>\n",
              "      <td>whatslf2</td>\n",
              "      <td>marital</td>\n",
              "      <td>divorce</td>\n",
              "      <td>martype</td>\n",
              "      <td>NaN</td>\n",
              "      <td>NaN</td>\n",
              "      <td>spocc10</td>\n",
              "      <td>hapmar</td>\n",
              "      <td>NaN</td>\n",
              "      <td>NaN</td>\n",
              "      <td>sex</td>\n",
              "      <td>income16</td>\n",
              "      <td>income</td>\n",
              "    </tr>\n",
              "    <tr>\n",
              "      <th>48261</th>\n",
              "      <td>wrkstat</td>\n",
              "      <td>occ10</td>\n",
              "      <td>NaN</td>\n",
              "      <td>whatslf2</td>\n",
              "      <td>marital</td>\n",
              "      <td>divorce</td>\n",
              "      <td>martype</td>\n",
              "      <td>NaN</td>\n",
              "      <td>NaN</td>\n",
              "      <td>spocc10</td>\n",
              "      <td>hapmar</td>\n",
              "      <td>NaN</td>\n",
              "      <td>NaN</td>\n",
              "      <td>sex</td>\n",
              "      <td>income16</td>\n",
              "      <td>income</td>\n",
              "    </tr>\n",
              "  </tbody>\n",
              "</table>\n",
              "</div>\n",
              "    <div class=\"colab-df-buttons\">\n",
              "\n",
              "  <div class=\"colab-df-container\">\n",
              "    <button class=\"colab-df-convert\" onclick=\"convertToInteractive('df-e289be7f-0b75-40ee-aa26-dfabd8c495af')\"\n",
              "            title=\"Convert this dataframe to an interactive table.\"\n",
              "            style=\"display:none;\">\n",
              "\n",
              "  <svg xmlns=\"http://www.w3.org/2000/svg\" height=\"24px\" viewBox=\"0 -960 960 960\">\n",
              "    <path d=\"M120-120v-720h720v720H120Zm60-500h600v-160H180v160Zm220 220h160v-160H400v160Zm0 220h160v-160H400v160ZM180-400h160v-160H180v160Zm440 0h160v-160H620v160ZM180-180h160v-160H180v160Zm440 0h160v-160H620v160Z\"/>\n",
              "  </svg>\n",
              "    </button>\n",
              "\n",
              "  <style>\n",
              "    .colab-df-container {\n",
              "      display:flex;\n",
              "      gap: 12px;\n",
              "    }\n",
              "\n",
              "    .colab-df-convert {\n",
              "      background-color: #E8F0FE;\n",
              "      border: none;\n",
              "      border-radius: 50%;\n",
              "      cursor: pointer;\n",
              "      display: none;\n",
              "      fill: #1967D2;\n",
              "      height: 32px;\n",
              "      padding: 0 0 0 0;\n",
              "      width: 32px;\n",
              "    }\n",
              "\n",
              "    .colab-df-convert:hover {\n",
              "      background-color: #E2EBFA;\n",
              "      box-shadow: 0px 1px 2px rgba(60, 64, 67, 0.3), 0px 1px 3px 1px rgba(60, 64, 67, 0.15);\n",
              "      fill: #174EA6;\n",
              "    }\n",
              "\n",
              "    .colab-df-buttons div {\n",
              "      margin-bottom: 4px;\n",
              "    }\n",
              "\n",
              "    [theme=dark] .colab-df-convert {\n",
              "      background-color: #3B4455;\n",
              "      fill: #D2E3FC;\n",
              "    }\n",
              "\n",
              "    [theme=dark] .colab-df-convert:hover {\n",
              "      background-color: #434B5C;\n",
              "      box-shadow: 0px 1px 3px 1px rgba(0, 0, 0, 0.15);\n",
              "      filter: drop-shadow(0px 1px 2px rgba(0, 0, 0, 0.3));\n",
              "      fill: #FFFFFF;\n",
              "    }\n",
              "  </style>\n",
              "\n",
              "    <script>\n",
              "      const buttonEl =\n",
              "        document.querySelector('#df-e289be7f-0b75-40ee-aa26-dfabd8c495af button.colab-df-convert');\n",
              "      buttonEl.style.display =\n",
              "        google.colab.kernel.accessAllowed ? 'block' : 'none';\n",
              "\n",
              "      async function convertToInteractive(key) {\n",
              "        const element = document.querySelector('#df-e289be7f-0b75-40ee-aa26-dfabd8c495af');\n",
              "        const dataTable =\n",
              "          await google.colab.kernel.invokeFunction('convertToInteractive',\n",
              "                                                    [key], {});\n",
              "        if (!dataTable) return;\n",
              "\n",
              "        const docLinkHtml = 'Like what you see? Visit the ' +\n",
              "          '<a target=\"_blank\" href=https://colab.research.google.com/notebooks/data_table.ipynb>data table notebook</a>'\n",
              "          + ' to learn more about interactive tables.';\n",
              "        element.innerHTML = '';\n",
              "        dataTable['output_type'] = 'display_data';\n",
              "        await google.colab.output.renderOutput(dataTable, element);\n",
              "        const docLink = document.createElement('div');\n",
              "        docLink.innerHTML = docLinkHtml;\n",
              "        element.appendChild(docLink);\n",
              "      }\n",
              "    </script>\n",
              "  </div>\n",
              "\n",
              "\n",
              "<div id=\"df-9788dbd2-ea6f-4ab9-a537-ecb9a78e1bab\">\n",
              "  <button class=\"colab-df-quickchart\" onclick=\"quickchart('df-9788dbd2-ea6f-4ab9-a537-ecb9a78e1bab')\"\n",
              "            title=\"Suggest charts\"\n",
              "            style=\"display:none;\">\n",
              "\n",
              "<svg xmlns=\"http://www.w3.org/2000/svg\" height=\"24px\"viewBox=\"0 0 24 24\"\n",
              "     width=\"24px\">\n",
              "    <g>\n",
              "        <path d=\"M19 3H5c-1.1 0-2 .9-2 2v14c0 1.1.9 2 2 2h14c1.1 0 2-.9 2-2V5c0-1.1-.9-2-2-2zM9 17H7v-7h2v7zm4 0h-2V7h2v10zm4 0h-2v-4h2v4z\"/>\n",
              "    </g>\n",
              "</svg>\n",
              "  </button>\n",
              "\n",
              "<style>\n",
              "  .colab-df-quickchart {\n",
              "      --bg-color: #E8F0FE;\n",
              "      --fill-color: #1967D2;\n",
              "      --hover-bg-color: #E2EBFA;\n",
              "      --hover-fill-color: #174EA6;\n",
              "      --disabled-fill-color: #AAA;\n",
              "      --disabled-bg-color: #DDD;\n",
              "  }\n",
              "\n",
              "  [theme=dark] .colab-df-quickchart {\n",
              "      --bg-color: #3B4455;\n",
              "      --fill-color: #D2E3FC;\n",
              "      --hover-bg-color: #434B5C;\n",
              "      --hover-fill-color: #FFFFFF;\n",
              "      --disabled-bg-color: #3B4455;\n",
              "      --disabled-fill-color: #666;\n",
              "  }\n",
              "\n",
              "  .colab-df-quickchart {\n",
              "    background-color: var(--bg-color);\n",
              "    border: none;\n",
              "    border-radius: 50%;\n",
              "    cursor: pointer;\n",
              "    display: none;\n",
              "    fill: var(--fill-color);\n",
              "    height: 32px;\n",
              "    padding: 0;\n",
              "    width: 32px;\n",
              "  }\n",
              "\n",
              "  .colab-df-quickchart:hover {\n",
              "    background-color: var(--hover-bg-color);\n",
              "    box-shadow: 0 1px 2px rgba(60, 64, 67, 0.3), 0 1px 3px 1px rgba(60, 64, 67, 0.15);\n",
              "    fill: var(--button-hover-fill-color);\n",
              "  }\n",
              "\n",
              "  .colab-df-quickchart-complete:disabled,\n",
              "  .colab-df-quickchart-complete:disabled:hover {\n",
              "    background-color: var(--disabled-bg-color);\n",
              "    fill: var(--disabled-fill-color);\n",
              "    box-shadow: none;\n",
              "  }\n",
              "\n",
              "  .colab-df-spinner {\n",
              "    border: 2px solid var(--fill-color);\n",
              "    border-color: transparent;\n",
              "    border-bottom-color: var(--fill-color);\n",
              "    animation:\n",
              "      spin 1s steps(1) infinite;\n",
              "  }\n",
              "\n",
              "  @keyframes spin {\n",
              "    0% {\n",
              "      border-color: transparent;\n",
              "      border-bottom-color: var(--fill-color);\n",
              "      border-left-color: var(--fill-color);\n",
              "    }\n",
              "    20% {\n",
              "      border-color: transparent;\n",
              "      border-left-color: var(--fill-color);\n",
              "      border-top-color: var(--fill-color);\n",
              "    }\n",
              "    30% {\n",
              "      border-color: transparent;\n",
              "      border-left-color: var(--fill-color);\n",
              "      border-top-color: var(--fill-color);\n",
              "      border-right-color: var(--fill-color);\n",
              "    }\n",
              "    40% {\n",
              "      border-color: transparent;\n",
              "      border-right-color: var(--fill-color);\n",
              "      border-top-color: var(--fill-color);\n",
              "    }\n",
              "    60% {\n",
              "      border-color: transparent;\n",
              "      border-right-color: var(--fill-color);\n",
              "    }\n",
              "    80% {\n",
              "      border-color: transparent;\n",
              "      border-right-color: var(--fill-color);\n",
              "      border-bottom-color: var(--fill-color);\n",
              "    }\n",
              "    90% {\n",
              "      border-color: transparent;\n",
              "      border-bottom-color: var(--fill-color);\n",
              "    }\n",
              "  }\n",
              "</style>\n",
              "\n",
              "  <script>\n",
              "    async function quickchart(key) {\n",
              "      const quickchartButtonEl =\n",
              "        document.querySelector('#' + key + ' button');\n",
              "      quickchartButtonEl.disabled = true;  // To prevent multiple clicks.\n",
              "      quickchartButtonEl.classList.add('colab-df-spinner');\n",
              "      try {\n",
              "        const charts = await google.colab.kernel.invokeFunction(\n",
              "            'suggestCharts', [key], {});\n",
              "      } catch (error) {\n",
              "        console.error('Error during call to suggestCharts:', error);\n",
              "      }\n",
              "      quickchartButtonEl.classList.remove('colab-df-spinner');\n",
              "      quickchartButtonEl.classList.add('colab-df-quickchart-complete');\n",
              "    }\n",
              "    (() => {\n",
              "      let quickchartButtonEl =\n",
              "        document.querySelector('#df-9788dbd2-ea6f-4ab9-a537-ecb9a78e1bab button');\n",
              "      quickchartButtonEl.style.display =\n",
              "        google.colab.kernel.accessAllowed ? 'block' : 'none';\n",
              "    })();\n",
              "  </script>\n",
              "</div>\n",
              "\n",
              "    </div>\n",
              "  </div>\n"
            ],
            "application/vnd.google.colaboratory.intrinsic+json": {
              "type": "dataframe",
              "summary": "{\n  \"name\": \"df\",\n  \"rows\": 2,\n  \"fields\": [\n    {\n      \"column\": \"work_status\",\n      \"properties\": {\n        \"dtype\": \"string\",\n        \"samples\": [\n          \"wrkstat\"\n        ],\n        \"num_unique_values\": 1,\n        \"semantic_type\": \"\",\n        \"description\": \"\"\n      }\n    },\n    {\n      \"column\": \"occupation\",\n      \"properties\": {\n        \"dtype\": \"string\",\n        \"samples\": [\n          \"occ10\"\n        ],\n        \"num_unique_values\": 1,\n        \"semantic_type\": \"\",\n        \"description\": \"\"\n      }\n    },\n    {\n      \"column\": \"prestige\",\n      \"properties\": {\n        \"dtype\": \"number\",\n        \"std\": NaN,\n        \"min\": NaN,\n        \"max\": NaN,\n        \"samples\": [],\n        \"num_unique_values\": 0,\n        \"semantic_type\": \"\",\n        \"description\": \"\"\n      }\n    },\n    {\n      \"column\": \"workplace_classification\",\n      \"properties\": {\n        \"dtype\": \"string\",\n        \"samples\": [],\n        \"num_unique_values\": 1,\n        \"semantic_type\": \"\",\n        \"description\": \"\"\n      }\n    },\n    {\n      \"column\": \"marital_status\",\n      \"properties\": {\n        \"dtype\": \"string\",\n        \"samples\": [],\n        \"num_unique_values\": 1,\n        \"semantic_type\": \"\",\n        \"description\": \"\"\n      }\n    },\n    {\n      \"column\": \"divorce\",\n      \"properties\": {\n        \"dtype\": \"string\",\n        \"samples\": [],\n        \"num_unique_values\": 1,\n        \"semantic_type\": \"\",\n        \"description\": \"\"\n      }\n    },\n    {\n      \"column\": \"marriage_type\",\n      \"properties\": {\n        \"dtype\": \"string\",\n        \"samples\": [],\n        \"num_unique_values\": 1,\n        \"semantic_type\": \"\",\n        \"description\": \"\"\n      }\n    },\n    {\n      \"column\": \"spouse_prestige\",\n      \"properties\": {\n        \"dtype\": \"number\",\n        \"std\": NaN,\n        \"min\": NaN,\n        \"max\": NaN,\n        \"samples\": [],\n        \"num_unique_values\": 0,\n        \"semantic_type\": \"\",\n        \"description\": \"\"\n      }\n    },\n    {\n      \"column\": \"respondent_prestige\",\n      \"properties\": {\n        \"dtype\": \"number\",\n        \"std\": NaN,\n        \"min\": NaN,\n        \"max\": NaN,\n        \"samples\": [],\n        \"num_unique_values\": 0,\n        \"semantic_type\": \"\",\n        \"description\": \"\"\n      }\n    },\n    {\n      \"column\": \"spouse_occupation\",\n      \"properties\": {\n        \"dtype\": \"string\",\n        \"samples\": [],\n        \"num_unique_values\": 1,\n        \"semantic_type\": \"\",\n        \"description\": \"\"\n      }\n    },\n    {\n      \"column\": \"marriage_happiness\",\n      \"properties\": {\n        \"dtype\": \"string\",\n        \"samples\": [],\n        \"num_unique_values\": 1,\n        \"semantic_type\": \"\",\n        \"description\": \"\"\n      }\n    },\n    {\n      \"column\": \"age\",\n      \"properties\": {\n        \"dtype\": \"number\",\n        \"std\": NaN,\n        \"min\": NaN,\n        \"max\": NaN,\n        \"samples\": [],\n        \"num_unique_values\": 0,\n        \"semantic_type\": \"\",\n        \"description\": \"\"\n      }\n    },\n    {\n      \"column\": \"educ\",\n      \"properties\": {\n        \"dtype\": \"number\",\n        \"std\": NaN,\n        \"min\": NaN,\n        \"max\": NaN,\n        \"samples\": [],\n        \"num_unique_values\": 0,\n        \"semantic_type\": \"\",\n        \"description\": \"\"\n      }\n    },\n    {\n      \"column\": \"sex\",\n      \"properties\": {\n        \"dtype\": \"string\",\n        \"samples\": [],\n        \"num_unique_values\": 1,\n        \"semantic_type\": \"\",\n        \"description\": \"\"\n      }\n    },\n    {\n      \"column\": \"income16\",\n      \"properties\": {\n        \"dtype\": \"string\",\n        \"samples\": [],\n        \"num_unique_values\": 1,\n        \"semantic_type\": \"\",\n        \"description\": \"\"\n      }\n    },\n    {\n      \"column\": \"income\",\n      \"properties\": {\n        \"dtype\": \"string\",\n        \"samples\": [],\n        \"num_unique_values\": 1,\n        \"semantic_type\": \"\",\n        \"description\": \"\"\n      }\n    }\n  ]\n}"
            }
          },
          "metadata": {},
          "execution_count": 12
        }
      ]
    },
    {
      "cell_type": "code",
      "source": [
        "indices_to_drop = df[df['work_status'] == 'wrkstat'].index\n",
        "df.drop(indices_to_drop, inplace=True)\n",
        "df['work_status'].value_counts()"
      ],
      "metadata": {
        "colab": {
          "base_uri": "https://localhost:8080/"
        },
        "id": "EuaN1wBG3q2V",
        "outputId": "c273870a-f92e-4391-cf00-ee694b413eef"
      },
      "execution_count": null,
      "outputs": [
        {
          "output_type": "execute_result",
          "data": {
            "text/plain": [
              "working full time                                                             35267\n",
              "retired                                                                       10886\n",
              "keeping house                                                                 10764\n",
              "working part time                                                              7430\n",
              "unemployed, laid off, looking for work                                         2621\n",
              "in school                                                                      2187\n",
              "other                                                                          1643\n",
              "with a job, but not at work because of temporary illness, vacation, strike     1556\n",
              "Name: work_status, dtype: int64"
            ]
          },
          "metadata": {},
          "execution_count": 13
        }
      ]
    },
    {
      "cell_type": "code",
      "source": [
        "df.shape"
      ],
      "metadata": {
        "colab": {
          "base_uri": "https://localhost:8080/"
        },
        "id": "Ysl536Ro57ht",
        "outputId": "f963e692-00ba-49a8-91cf-3d15ca589f13"
      },
      "execution_count": null,
      "outputs": [
        {
          "output_type": "execute_result",
          "data": {
            "text/plain": [
              "(72390, 16)"
            ]
          },
          "metadata": {},
          "execution_count": 14
        }
      ]
    },
    {
      "cell_type": "code",
      "source": [
        "df.loc[df['work_status'] == 'wrkstat']\n",
        "# Sanity check"
      ],
      "metadata": {
        "colab": {
          "base_uri": "https://localhost:8080/",
          "height": 73
        },
        "id": "FHJEI-qK3w7t",
        "outputId": "c2912e8b-f13d-4eeb-8e53-f004bd112a8a"
      },
      "execution_count": null,
      "outputs": [
        {
          "output_type": "execute_result",
          "data": {
            "text/plain": [
              "Empty DataFrame\n",
              "Columns: [work_status, occupation, prestige, workplace_classification, marital_status, divorce, marriage_type, spouse_prestige, respondent_prestige, spouse_occupation, marriage_happiness, age, educ, sex, income16, income]\n",
              "Index: []"
            ],
            "text/html": [
              "\n",
              "  <div id=\"df-d88d3077-9581-4da3-9336-3533ab7dae16\" class=\"colab-df-container\">\n",
              "    <div>\n",
              "<style scoped>\n",
              "    .dataframe tbody tr th:only-of-type {\n",
              "        vertical-align: middle;\n",
              "    }\n",
              "\n",
              "    .dataframe tbody tr th {\n",
              "        vertical-align: top;\n",
              "    }\n",
              "\n",
              "    .dataframe thead th {\n",
              "        text-align: right;\n",
              "    }\n",
              "</style>\n",
              "<table border=\"1\" class=\"dataframe\">\n",
              "  <thead>\n",
              "    <tr style=\"text-align: right;\">\n",
              "      <th></th>\n",
              "      <th>work_status</th>\n",
              "      <th>occupation</th>\n",
              "      <th>prestige</th>\n",
              "      <th>workplace_classification</th>\n",
              "      <th>marital_status</th>\n",
              "      <th>divorce</th>\n",
              "      <th>marriage_type</th>\n",
              "      <th>spouse_prestige</th>\n",
              "      <th>respondent_prestige</th>\n",
              "      <th>spouse_occupation</th>\n",
              "      <th>marriage_happiness</th>\n",
              "      <th>age</th>\n",
              "      <th>educ</th>\n",
              "      <th>sex</th>\n",
              "      <th>income16</th>\n",
              "      <th>income</th>\n",
              "    </tr>\n",
              "  </thead>\n",
              "  <tbody>\n",
              "  </tbody>\n",
              "</table>\n",
              "</div>\n",
              "    <div class=\"colab-df-buttons\">\n",
              "\n",
              "  <div class=\"colab-df-container\">\n",
              "    <button class=\"colab-df-convert\" onclick=\"convertToInteractive('df-d88d3077-9581-4da3-9336-3533ab7dae16')\"\n",
              "            title=\"Convert this dataframe to an interactive table.\"\n",
              "            style=\"display:none;\">\n",
              "\n",
              "  <svg xmlns=\"http://www.w3.org/2000/svg\" height=\"24px\" viewBox=\"0 -960 960 960\">\n",
              "    <path d=\"M120-120v-720h720v720H120Zm60-500h600v-160H180v160Zm220 220h160v-160H400v160Zm0 220h160v-160H400v160ZM180-400h160v-160H180v160Zm440 0h160v-160H620v160ZM180-180h160v-160H180v160Zm440 0h160v-160H620v160Z\"/>\n",
              "  </svg>\n",
              "    </button>\n",
              "\n",
              "  <style>\n",
              "    .colab-df-container {\n",
              "      display:flex;\n",
              "      gap: 12px;\n",
              "    }\n",
              "\n",
              "    .colab-df-convert {\n",
              "      background-color: #E8F0FE;\n",
              "      border: none;\n",
              "      border-radius: 50%;\n",
              "      cursor: pointer;\n",
              "      display: none;\n",
              "      fill: #1967D2;\n",
              "      height: 32px;\n",
              "      padding: 0 0 0 0;\n",
              "      width: 32px;\n",
              "    }\n",
              "\n",
              "    .colab-df-convert:hover {\n",
              "      background-color: #E2EBFA;\n",
              "      box-shadow: 0px 1px 2px rgba(60, 64, 67, 0.3), 0px 1px 3px 1px rgba(60, 64, 67, 0.15);\n",
              "      fill: #174EA6;\n",
              "    }\n",
              "\n",
              "    .colab-df-buttons div {\n",
              "      margin-bottom: 4px;\n",
              "    }\n",
              "\n",
              "    [theme=dark] .colab-df-convert {\n",
              "      background-color: #3B4455;\n",
              "      fill: #D2E3FC;\n",
              "    }\n",
              "\n",
              "    [theme=dark] .colab-df-convert:hover {\n",
              "      background-color: #434B5C;\n",
              "      box-shadow: 0px 1px 3px 1px rgba(0, 0, 0, 0.15);\n",
              "      filter: drop-shadow(0px 1px 2px rgba(0, 0, 0, 0.3));\n",
              "      fill: #FFFFFF;\n",
              "    }\n",
              "  </style>\n",
              "\n",
              "    <script>\n",
              "      const buttonEl =\n",
              "        document.querySelector('#df-d88d3077-9581-4da3-9336-3533ab7dae16 button.colab-df-convert');\n",
              "      buttonEl.style.display =\n",
              "        google.colab.kernel.accessAllowed ? 'block' : 'none';\n",
              "\n",
              "      async function convertToInteractive(key) {\n",
              "        const element = document.querySelector('#df-d88d3077-9581-4da3-9336-3533ab7dae16');\n",
              "        const dataTable =\n",
              "          await google.colab.kernel.invokeFunction('convertToInteractive',\n",
              "                                                    [key], {});\n",
              "        if (!dataTable) return;\n",
              "\n",
              "        const docLinkHtml = 'Like what you see? Visit the ' +\n",
              "          '<a target=\"_blank\" href=https://colab.research.google.com/notebooks/data_table.ipynb>data table notebook</a>'\n",
              "          + ' to learn more about interactive tables.';\n",
              "        element.innerHTML = '';\n",
              "        dataTable['output_type'] = 'display_data';\n",
              "        await google.colab.output.renderOutput(dataTable, element);\n",
              "        const docLink = document.createElement('div');\n",
              "        docLink.innerHTML = docLinkHtml;\n",
              "        element.appendChild(docLink);\n",
              "      }\n",
              "    </script>\n",
              "  </div>\n",
              "\n",
              "\n",
              "    </div>\n",
              "  </div>\n"
            ],
            "application/vnd.google.colaboratory.intrinsic+json": {
              "type": "dataframe",
              "summary": "{\n  \"name\": \"# Sanity check\",\n  \"rows\": 0,\n  \"fields\": [\n    {\n      \"column\": \"work_status\",\n      \"properties\": {\n        \"dtype\": \"date\",\n        \"min\": NaN,\n        \"max\": NaN,\n        \"samples\": [],\n        \"num_unique_values\": 0,\n        \"semantic_type\": \"\",\n        \"description\": \"\"\n      }\n    },\n    {\n      \"column\": \"occupation\",\n      \"properties\": {\n        \"dtype\": \"date\",\n        \"min\": NaN,\n        \"max\": NaN,\n        \"samples\": [],\n        \"num_unique_values\": 0,\n        \"semantic_type\": \"\",\n        \"description\": \"\"\n      }\n    },\n    {\n      \"column\": \"prestige\",\n      \"properties\": {\n        \"dtype\": \"number\",\n        \"std\": NaN,\n        \"min\": NaN,\n        \"max\": NaN,\n        \"samples\": [],\n        \"num_unique_values\": 0,\n        \"semantic_type\": \"\",\n        \"description\": \"\"\n      }\n    },\n    {\n      \"column\": \"workplace_classification\",\n      \"properties\": {\n        \"dtype\": \"date\",\n        \"min\": NaN,\n        \"max\": NaN,\n        \"samples\": [],\n        \"num_unique_values\": 0,\n        \"semantic_type\": \"\",\n        \"description\": \"\"\n      }\n    },\n    {\n      \"column\": \"marital_status\",\n      \"properties\": {\n        \"dtype\": \"date\",\n        \"min\": NaN,\n        \"max\": NaN,\n        \"samples\": [],\n        \"num_unique_values\": 0,\n        \"semantic_type\": \"\",\n        \"description\": \"\"\n      }\n    },\n    {\n      \"column\": \"divorce\",\n      \"properties\": {\n        \"dtype\": \"date\",\n        \"min\": NaN,\n        \"max\": NaN,\n        \"samples\": [],\n        \"num_unique_values\": 0,\n        \"semantic_type\": \"\",\n        \"description\": \"\"\n      }\n    },\n    {\n      \"column\": \"marriage_type\",\n      \"properties\": {\n        \"dtype\": \"date\",\n        \"min\": NaN,\n        \"max\": NaN,\n        \"samples\": [],\n        \"num_unique_values\": 0,\n        \"semantic_type\": \"\",\n        \"description\": \"\"\n      }\n    },\n    {\n      \"column\": \"spouse_prestige\",\n      \"properties\": {\n        \"dtype\": \"number\",\n        \"std\": NaN,\n        \"min\": NaN,\n        \"max\": NaN,\n        \"samples\": [],\n        \"num_unique_values\": 0,\n        \"semantic_type\": \"\",\n        \"description\": \"\"\n      }\n    },\n    {\n      \"column\": \"respondent_prestige\",\n      \"properties\": {\n        \"dtype\": \"number\",\n        \"std\": NaN,\n        \"min\": NaN,\n        \"max\": NaN,\n        \"samples\": [],\n        \"num_unique_values\": 0,\n        \"semantic_type\": \"\",\n        \"description\": \"\"\n      }\n    },\n    {\n      \"column\": \"spouse_occupation\",\n      \"properties\": {\n        \"dtype\": \"date\",\n        \"min\": NaN,\n        \"max\": NaN,\n        \"samples\": [],\n        \"num_unique_values\": 0,\n        \"semantic_type\": \"\",\n        \"description\": \"\"\n      }\n    },\n    {\n      \"column\": \"marriage_happiness\",\n      \"properties\": {\n        \"dtype\": \"date\",\n        \"min\": NaN,\n        \"max\": NaN,\n        \"samples\": [],\n        \"num_unique_values\": 0,\n        \"semantic_type\": \"\",\n        \"description\": \"\"\n      }\n    },\n    {\n      \"column\": \"age\",\n      \"properties\": {\n        \"dtype\": \"number\",\n        \"std\": NaN,\n        \"min\": NaN,\n        \"max\": NaN,\n        \"samples\": [],\n        \"num_unique_values\": 0,\n        \"semantic_type\": \"\",\n        \"description\": \"\"\n      }\n    },\n    {\n      \"column\": \"educ\",\n      \"properties\": {\n        \"dtype\": \"number\",\n        \"std\": NaN,\n        \"min\": NaN,\n        \"max\": NaN,\n        \"samples\": [],\n        \"num_unique_values\": 0,\n        \"semantic_type\": \"\",\n        \"description\": \"\"\n      }\n    },\n    {\n      \"column\": \"sex\",\n      \"properties\": {\n        \"dtype\": \"date\",\n        \"min\": NaN,\n        \"max\": NaN,\n        \"samples\": [],\n        \"num_unique_values\": 0,\n        \"semantic_type\": \"\",\n        \"description\": \"\"\n      }\n    },\n    {\n      \"column\": \"income16\",\n      \"properties\": {\n        \"dtype\": \"date\",\n        \"min\": NaN,\n        \"max\": NaN,\n        \"samples\": [],\n        \"num_unique_values\": 0,\n        \"semantic_type\": \"\",\n        \"description\": \"\"\n      }\n    },\n    {\n      \"column\": \"income\",\n      \"properties\": {\n        \"dtype\": \"date\",\n        \"min\": NaN,\n        \"max\": NaN,\n        \"samples\": [],\n        \"num_unique_values\": 0,\n        \"semantic_type\": \"\",\n        \"description\": \"\"\n      }\n    }\n  ]\n}"
            }
          },
          "metadata": {},
          "execution_count": 15
        }
      ]
    },
    {
      "cell_type": "code",
      "source": [
        "spouse_prestige = df['spouse_prestige']\n",
        "prestige = df['prestige']\n",
        "respondent_prestige = df['respondent_prestige']\n",
        "income16 = df['income16']\n",
        "income = df['income']\n",
        "work_status = df['work_status']\n",
        "occupation = df['occupation']\n",
        "workplace_classification = df['workplace_classification']\n",
        "marital_status = df['marital_status']\n",
        "divorce = df['divorce']\n",
        "marriage_type = df['marriage_type']\n",
        "spouse_occupation = df['spouse_occupation']\n",
        "marriage_happiness = df['marriage_happiness']\n",
        "age = df['age']\n",
        "educ = df['educ']\n",
        "sex = df['sex']\n",
        "# Updating vars to reflect dropped rows"
      ],
      "metadata": {
        "id": "0avLtxl-6eZM"
      },
      "execution_count": null,
      "outputs": []
    },
    {
      "cell_type": "code",
      "source": [
        "occupation.value_counts(), '\\n'"
      ],
      "metadata": {
        "colab": {
          "base_uri": "https://localhost:8080/"
        },
        "id": "Lq60Rze6vvXs",
        "outputId": "15d0a6e0-3cde-41cd-b412-7767b2f0d64b"
      },
      "execution_count": null,
      "outputs": [
        {
          "output_type": "execute_result",
          "data": {
            "text/plain": [
              "(secretaries and administrative assistants                                                     2727\n",
              " retail salespersons                                                                           1515\n",
              " elementary and middle school teachers                                                         1475\n",
              " nursing, psychiatric, and home health aides                                                   1386\n",
              " driver/sales workers and truck drivers                                                        1324\n",
              "                                                                                               ... \n",
              " animal breeders                                                                                  1\n",
              " extruding and forming machine setters, operators, and tenders,  synthetic and glass fibers       1\n",
              " signal and track switch repairers                                                                1\n",
              " commercial divers                                                                                1\n",
              " hunters and trappers                                                                             1\n",
              " Name: occupation, Length: 533, dtype: int64,\n",
              " '\\n')"
            ]
          },
          "metadata": {},
          "execution_count": 17
        }
      ]
    },
    {
      "cell_type": "code",
      "source": [
        "\"occ10\" in occupation\n",
        "# This was an error with some other variables; looks good though"
      ],
      "metadata": {
        "colab": {
          "base_uri": "https://localhost:8080/"
        },
        "id": "iBLWtYCGAi1p",
        "outputId": "798b311a-77fa-4432-8c4d-b1bd9d47a528"
      },
      "execution_count": null,
      "outputs": [
        {
          "output_type": "execute_result",
          "data": {
            "text/plain": [
              "False"
            ]
          },
          "metadata": {},
          "execution_count": 20
        }
      ]
    },
    {
      "cell_type": "code",
      "source": [
        "workplace_classification.value_counts(), '\\n'"
      ],
      "metadata": {
        "colab": {
          "base_uri": "https://localhost:8080/"
        },
        "id": "SveOXnBxv1J9",
        "outputId": "95965aba-92bb-4fd7-cace-ea001073ca16"
      },
      "execution_count": null,
      "outputs": [
        {
          "output_type": "execute_result",
          "data": {
            "text/plain": [
              "(other (agriculture, construction, service, government, etc.)    1612\n",
              " retail trade                                                     283\n",
              " manufacturing                                                    228\n",
              " wholesale trade                                                   62\n",
              " Name: workplace_classification, dtype: int64,\n",
              " '\\n')"
            ]
          },
          "metadata": {},
          "execution_count": 315
        }
      ]
    },
    {
      "cell_type": "code",
      "source": [
        "marital_status.value_counts(), '\\n'"
      ],
      "metadata": {
        "colab": {
          "base_uri": "https://localhost:8080/"
        },
        "id": "2LISiKdVv6pz",
        "outputId": "024c67b0-7513-4a31-fd74-0a55398a2ffd"
      },
      "execution_count": null,
      "outputs": [
        {
          "output_type": "execute_result",
          "data": {
            "text/plain": [
              "(married          37590\n",
              " never married    15910\n",
              " divorced          9642\n",
              " widowed           6756\n",
              " separated         2441\n",
              " Name: marital_status, dtype: int64,\n",
              " '\\n')"
            ]
          },
          "metadata": {},
          "execution_count": 316
        }
      ]
    },
    {
      "cell_type": "code",
      "source": [
        "divorce.value_counts(), '\\n'"
      ],
      "metadata": {
        "colab": {
          "base_uri": "https://localhost:8080/"
        },
        "id": "PMT9WpbTv9AF",
        "outputId": "c9746fd1-2bb5-4dbf-de2d-c90715a5be7b"
      },
      "execution_count": null,
      "outputs": [
        {
          "output_type": "execute_result",
          "data": {
            "text/plain": [
              "(no     34738\n",
              " yes     9366\n",
              " Name: divorce, dtype: int64,\n",
              " '\\n')"
            ]
          },
          "metadata": {},
          "execution_count": 317
        }
      ]
    },
    {
      "cell_type": "code",
      "source": [
        "marriage_type.value_counts(), '\\n'"
      ],
      "metadata": {
        "colab": {
          "base_uri": "https://localhost:8080/"
        },
        "id": "E-mSRF9Uv_LW",
        "outputId": "4ce0641a-3857-4ac0-f70e-07b22005cca0"
      },
      "execution_count": null,
      "outputs": [
        {
          "output_type": "execute_result",
          "data": {
            "text/plain": [
              "(marriage between a man and a woman                4999\n",
              " not sure                                            39\n",
              " marriage between two people of the same gender      36\n",
              " Name: marriage_type, dtype: int64,\n",
              " '\\n')"
            ]
          },
          "metadata": {},
          "execution_count": 318
        }
      ]
    },
    {
      "cell_type": "code",
      "source": [
        "spouse_occupation.value_counts(), '\\n'"
      ],
      "metadata": {
        "colab": {
          "base_uri": "https://localhost:8080/"
        },
        "id": "t-nXW59xwCLh",
        "outputId": "8b75d132-b7e4-48f8-a36c-6f08fcc4fecc"
      },
      "execution_count": null,
      "outputs": [
        {
          "output_type": "execute_result",
          "data": {
            "text/plain": [
              "(secretaries and administrative assistants                                          1389\n",
              " driver/sales workers and truck drivers                                              915\n",
              " elementary and middle school teachers                                               822\n",
              " retail salespersons                                                                 774\n",
              " first-line supervisors of retail sales workers                                      747\n",
              "                                                                                    ... \n",
              " multiple machine tool setters, operators, and tenders, metal and plastic              1\n",
              " hoist and winch operators                                                             1\n",
              " other transportation workers                                                          1\n",
              " milling and planing machine setters, operators, and tenders, metal  and plastic       1\n",
              " agricultural engineers                                                                1\n",
              " Name: spouse_occupation, Length: 532, dtype: int64,\n",
              " '\\n')"
            ]
          },
          "metadata": {},
          "execution_count": 319
        }
      ]
    },
    {
      "cell_type": "code",
      "source": [
        "\"spocc10\" in spouse_occupation"
      ],
      "metadata": {
        "colab": {
          "base_uri": "https://localhost:8080/"
        },
        "id": "hMsPYVvmEU_1",
        "outputId": "5b172f89-ce06-4433-b1cc-f17f602e67c6"
      },
      "execution_count": null,
      "outputs": [
        {
          "output_type": "execute_result",
          "data": {
            "text/plain": [
              "False"
            ]
          },
          "metadata": {},
          "execution_count": 21
        }
      ]
    },
    {
      "cell_type": "code",
      "source": [
        "spouse_prestige.value_counts()\n",
        "# values range from 0 to 100; standardized score of how prestiguos respondents'\n",
        "# spouses ranked their occupations"
      ],
      "metadata": {
        "colab": {
          "base_uri": "https://localhost:8080/"
        },
        "id": "CAK3oG_aHQji",
        "outputId": "161a1130-0280-4328-996e-dcac87ca1098"
      },
      "execution_count": null,
      "outputs": [
        {
          "output_type": "execute_result",
          "data": {
            "text/plain": [
              "35.0    2522\n",
              "47.0    2022\n",
              "38.0    2009\n",
              "45.0    1719\n",
              "31.0    1672\n",
              "        ... \n",
              "67.0      42\n",
              "23.0      26\n",
              "20.0      24\n",
              "68.0      19\n",
              "76.0       3\n",
              "Name: spouse_prestige, Length: 61, dtype: int64"
            ]
          },
          "metadata": {},
          "execution_count": 25
        }
      ]
    },
    {
      "cell_type": "code",
      "source": [
        "marriage_happiness.value_counts(), '\\n'"
      ],
      "metadata": {
        "colab": {
          "base_uri": "https://localhost:8080/"
        },
        "id": "JGEv4PR7wIiU",
        "outputId": "cb97570c-f3fe-49ce-a757-b9527fe7c3fe"
      },
      "execution_count": null,
      "outputs": [
        {
          "output_type": "execute_result",
          "data": {
            "text/plain": [
              "(very happy       21427\n",
              " pretty happy     11506\n",
              " not too happy     1066\n",
              " Name: marriage_happiness, dtype: int64,\n",
              " '\\n')"
            ]
          },
          "metadata": {},
          "execution_count": 320
        }
      ]
    },
    {
      "cell_type": "code",
      "source": [
        "sex.value_counts(), '\\n'"
      ],
      "metadata": {
        "colab": {
          "base_uri": "https://localhost:8080/"
        },
        "id": "yijJwHTtwLXn",
        "outputId": "64bbe0f7-7920-4808-f9af-0522517c7b22"
      },
      "execution_count": null,
      "outputs": [
        {
          "output_type": "execute_result",
          "data": {
            "text/plain": [
              "(female    40301\n",
              " male      31977\n",
              " Name: sex, dtype: int64,\n",
              " '\\n')"
            ]
          },
          "metadata": {},
          "execution_count": 321
        }
      ]
    },
    {
      "cell_type": "code",
      "source": [
        "income16.value_counts(), '\\n'"
      ],
      "metadata": {
        "colab": {
          "base_uri": "https://localhost:8080/"
        },
        "id": "DnBM1o6nwQV1",
        "outputId": "d88f39be-9a95-42e3-ad02-2c2a80cf6d34"
      },
      "execution_count": null,
      "outputs": [
        {
          "output_type": "execute_result",
          "data": {
            "text/plain": [
              "($60,000 to $74,999      1144\n",
              " $170,000 or over        1037\n",
              " $75,000 to $89,999       935\n",
              " $90,000 to $109,999      899\n",
              " $50,000 to $59,999       886\n",
              " $40,000 to $49,999       854\n",
              " $110,000 to $129,999     630\n",
              " $30,000 to $34,999       564\n",
              " $35,000 to $39,999       515\n",
              " $130,000 to $149,999     464\n",
              " $25,000 to $29,999       455\n",
              " $150,000 to $169,999     370\n",
              " $10,000 to $12,499       349\n",
              " $22,500 to $24,999       347\n",
              " $20,000 to $22,499       332\n",
              " $12,500 to $14,999       304\n",
              " $15,000 to $17,499       247\n",
              " $17,500 to $19,999       219\n",
              " $8,000 to $9,999         183\n",
              " under $1,000             172\n",
              " $1,000 to $2,999         145\n",
              " $3,000 to $3,999          80\n",
              " $7,000 to $7,999          70\n",
              " $5,000 to $5,999          67\n",
              " $6,000 to $6,999          50\n",
              " $4,000 to $4,999          49\n",
              " Name: income16, dtype: int64,\n",
              " '\\n')"
            ]
          },
          "metadata": {},
          "execution_count": 322
        }
      ]
    },
    {
      "cell_type": "code",
      "source": [
        "income.value_counts(), '\\n'"
      ],
      "metadata": {
        "colab": {
          "base_uri": "https://localhost:8080/"
        },
        "id": "JecSeA1xwTr1",
        "outputId": "58b043ac-dc3d-4862-aa82-a1d88e00c9ae"
      },
      "execution_count": null,
      "outputs": [
        {
          "output_type": "execute_result",
          "data": {
            "text/plain": [
              "($25,000 or more       34785\n",
              " $10,000 to $14,999     6850\n",
              " $20,000 to $24,999     5528\n",
              " $15,000 to $19,999     5301\n",
              " $8,000 to $9,999       2285\n",
              " $1,000 to $2,999       1412\n",
              " $7,000 to $7,999       1315\n",
              " $5,000 to $5,999       1314\n",
              " $3,000 to $3,999       1309\n",
              " $6,000 to $6,999       1249\n",
              " $4,000 to $4,999       1189\n",
              " under $1,000            902\n",
              " Name: income, dtype: int64,\n",
              " '\\n')"
            ]
          },
          "metadata": {},
          "execution_count": 323
        }
      ]
    },
    {
      "cell_type": "code",
      "source": [
        "# educ = highest year of school completed (GSS website)\n",
        "educ.value_counts()"
      ],
      "metadata": {
        "colab": {
          "base_uri": "https://localhost:8080/"
        },
        "id": "7Berh3QbEl3C",
        "outputId": "e3e08559-dabe-4005-8843-592bc2f8f89a"
      },
      "execution_count": null,
      "outputs": [
        {
          "output_type": "execute_result",
          "data": {
            "text/plain": [
              "12.0    21401\n",
              "16.0     9994\n",
              "14.0     8208\n",
              "13.0     5905\n",
              "11.0     3942\n",
              "15.0     3307\n",
              "10.0     3010\n",
              "18.0     2945\n",
              "8.0      2786\n",
              "17.0     2392\n",
              "9.0      2172\n",
              "20.0     1803\n",
              "19.0     1112\n",
              "7.0       896\n",
              "6.0       866\n",
              "5.0       410\n",
              "4.0       326\n",
              "3.0       268\n",
              "0.0       177\n",
              "2.0       158\n",
              "1.0        49\n",
              "Name: educ, dtype: int64"
            ]
          },
          "metadata": {},
          "execution_count": 22
        }
      ]
    },
    {
      "cell_type": "code",
      "source": [
        "age.value_counts()"
      ],
      "metadata": {
        "colab": {
          "base_uri": "https://localhost:8080/"
        },
        "id": "f1b0w8cyFBFZ",
        "outputId": "c9a41813-8860-49f3-c18b-b60665ce5f59"
      },
      "execution_count": null,
      "outputs": [
        {
          "output_type": "execute_result",
          "data": {
            "text/plain": [
              "30.0    1571\n",
              "32.0    1566\n",
              "34.0    1552\n",
              "28.0    1548\n",
              "33.0    1526\n",
              "        ... \n",
              "18.0     267\n",
              "85.0     221\n",
              "86.0     211\n",
              "87.0     158\n",
              "88.0     130\n",
              "Name: age, Length: 72, dtype: int64"
            ]
          },
          "metadata": {},
          "execution_count": 24
        }
      ]
    },
    {
      "cell_type": "code",
      "source": [],
      "metadata": {
        "id": "fvxNfOsvHvH_"
      },
      "execution_count": null,
      "outputs": []
    },
    {
      "cell_type": "markdown",
      "source": [
        "**Cleaning income**\n",
        "- Making a copy of income with numerical values for data visualization and analysis purposes. Rounding each income category to its highest bound (e.g. 10,000-14,999 --> 14999)"
      ],
      "metadata": {
        "id": "vRXITbx4E9AX"
      }
    },
    {
      "cell_type": "code",
      "source": [
        "income_numeric = income.copy()\n",
        "income_numeric = income_numeric.replace({\"$25,000 or more\": 25000,\n",
        "                                         \"$10,000 to $14,999\": 12500,\n",
        "                                         \"$20,000 to $24,999\": 22500,\n",
        "                                         \"$15,000 to $19,999\": 17500,\n",
        "                                         \"$8,000 to $9,999\": 9000,\n",
        "                                         \"$1,000 to $2,999\": 2000,\n",
        "                                         \"$7,000 to $7,999\": 7500,\n",
        "                                         \"$5,000 to $5,999\": 5500,\n",
        "                                         \"$3,000 to $3,999\": 3500,\n",
        "                                         \"$6,000 to $6,999\": 6500,\n",
        "                                         \"$4,000 to $4,999\": 4500,\n",
        "                                         \"under $1,000\": 1000})\n",
        "# There's a weird distribution of the values. Correcting it:\n",
        "# Note: Kelsey did this by assigning each numeric value to its closest value of 25,000 in increments of 2500.\n",
        "# For example, 4500 --> 5000."
      ],
      "metadata": {
        "id": "K_4oEmrbFpvI"
      },
      "execution_count": null,
      "outputs": []
    },
    {
      "cell_type": "markdown",
      "source": [
        "income_numeric = income_numeric.replace({9000: 10000,\n",
        "                                         6500: 7500,\n",
        "                                         5500: 5000,\n",
        "                                         3500: 2500,\n",
        "                                         2000: 25000,\n",
        "                                         1000: 0,\n",
        "                                         4500: 5000})"
      ],
      "metadata": {
        "id": "0BajkJf5HOVs"
      }
    },
    {
      "cell_type": "code",
      "source": [
        "income_numeric.value_counts()"
      ],
      "metadata": {
        "colab": {
          "base_uri": "https://localhost:8080/"
        },
        "id": "nKsmYXozF61F",
        "outputId": "b002c6b4-e701-4c78-ac7f-809fa5ee6f9b"
      },
      "execution_count": null,
      "outputs": [
        {
          "output_type": "execute_result",
          "data": {
            "text/plain": [
              "25000.0    36197\n",
              "12500.0     6850\n",
              "22500.0     5528\n",
              "17500.0     5301\n",
              "7500.0      2564\n",
              "5000.0      2503\n",
              "10000.0     2285\n",
              "2500.0      1309\n",
              "0.0          902\n",
              "Name: income, dtype: int64"
            ]
          },
          "metadata": {},
          "execution_count": 341
        }
      ]
    },
    {
      "cell_type": "markdown",
      "source": [
        "<font size=\"5\">**WRANGLING DOCUMENTATION**</font>\n",
        "\n",
        "Write notes about steps taken to wrangle the data here:\n",
        "\n",
        "1. DtypeWarning -- several columns have mixed types, and all columns are objects, which should not be the case -- changed numerical data columns to float64 dtypes\n",
        "\n",
        "2. Bad column names -- changed column names for clarity wherever possible\n",
        "\n",
        "3. 2 columns just had column names for every value -- threw these out"
      ],
      "metadata": {
        "id": "Ri9EqtYDdT_b"
      }
    }
  ]
}