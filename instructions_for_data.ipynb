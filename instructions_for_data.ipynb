{
  "nbformat": 4,
  "nbformat_minor": 0,
  "metadata": {
    "colab": {
      "provenance": [],
      "authorship_tag": "ABX9TyMP6iq61VTaqhunpNyYdqat",
      "include_colab_link": true
    },
    "kernelspec": {
      "name": "python3",
      "display_name": "Python 3"
    },
    "language_info": {
      "name": "python"
    }
  },
  "cells": [
    {
      "cell_type": "markdown",
      "metadata": {
        "id": "view-in-github",
        "colab_type": "text"
      },
      "source": [
        "<a href=\"https://colab.research.google.com/github/torrancefredell/gss_project/blob/main/instructions_for_data.ipynb\" target=\"_parent\"><img src=\"https://colab.research.google.com/assets/colab-badge.svg\" alt=\"Open In Colab\"/></a>"
      ]
    },
    {
      "cell_type": "markdown",
      "source": [
        "<font size=\"5\">**INSTRUCTIONS FOR GETTING CLEANED DATA**</font>"
      ],
      "metadata": {
        "id": "oLzefA704QHN"
      }
    },
    {
      "cell_type": "markdown",
      "source": [
        "1. Open this link: https://drive.google.com/file/d/1ET4sxmRc7Oxa5LOVIxnBcSXQkTtU0Mlh/view?usp=drive_link  "
      ],
      "metadata": {
        "id": "HwZkaDis4XIF"
      }
    },
    {
      "cell_type": "markdown",
      "source": [
        "2. Click the \"add shortcut to Drive\" button and place the file wherever you want, noting the file path\n",
        "- For example: if mine is in my “4th year” folder in Google Drive, my path would be ‘/content/drive/My Drive/4th Year/cleaned_gss.csv’"
      ],
      "metadata": {
        "id": "8ZfN8uBG4ZR2"
      }
    },
    {
      "cell_type": "markdown",
      "source": [
        "3. Put the following code into the notebook you are working on (Google Drive will ask for some permissions once you run this, just accept):"
      ],
      "metadata": {
        "id": "SN3vr41l4x5Z"
      }
    },
    {
      "cell_type": "code",
      "source": [
        "import pandas as pd\n",
        "from google.colab import drive\n",
        "drive.mount('/content/drive')"
      ],
      "metadata": {
        "id": "KW0O2DX_5bfc"
      },
      "execution_count": null,
      "outputs": []
    },
    {
      "cell_type": "markdown",
      "source": [
        "4. Then:"
      ],
      "metadata": {
        "id": "vkQjJlh25VBL"
      }
    },
    {
      "cell_type": "code",
      "source": [
        "df = pd.read_csv('/content/drive/My Drive/4th Year/IntroML/cleaned_gss.csv', index_col=0)\n",
        "#CHANGE THIS TO YOUR PATH"
      ],
      "metadata": {
        "id": "esGtHbDZ5ZFQ"
      },
      "execution_count": null,
      "outputs": []
    }
  ]
}